{
  "nbformat": 4,
  "nbformat_minor": 0,
  "metadata": {
    "colab": {
      "name": "simulate_seasons",
      "provenance": [],
      "mount_file_id": "1lNmPHafPqP7Kp3TFQcX9BuzSg4L-vDKY",
      "authorship_tag": "ABX9TyPplBsdE8Yqxyn0AeJyl4U0",
      "include_colab_link": true
    },
    "kernelspec": {
      "display_name": "Python 3",
      "name": "python3"
    }
  },
  "cells": [
    {
      "cell_type": "markdown",
      "metadata": {
        "id": "view-in-github",
        "colab_type": "text"
      },
      "source": [
        "<a href=\"https://colab.research.google.com/github/jesperiksson/SoccermaticsForPython/blob/master/simulate_seasons.ipynb\" target=\"_parent\"><img src=\"https://colab.research.google.com/assets/colab-badge.svg\" alt=\"Open In Colab\"/></a>"
      ]
    },
    {
      "cell_type": "markdown",
      "metadata": {
        "id": "j-yE6ZvVnwbT"
      },
      "source": [
        "#!/usr/bin/env python3\n",
        "# -*- coding: utf-8 -*-\n",
        "\"\"\"\n",
        "Created on Sat Oct 24 15:00:30 2020\n",
        "\n",
        "@author: jesper\n",
        "\"\"\""
      ]
    },
    {
      "cell_type": "code",
      "metadata": {
        "id": "xZOzZ5Fn0CO2",
        "outputId": "0cef7af3-b97f-4920-b967-401fbf655f20",
        "colab": {
          "base_uri": "https://localhost:8080/"
        }
      },
      "source": [
        "from google.colab import drive\n",
        "drive.mount('/content/drive/')\n",
        "path  = '/content/drive/My Drive/Fotbollsmatte/'"
      ],
      "execution_count": 12,
      "outputs": [
        {
          "output_type": "stream",
          "text": [
            "Drive already mounted at /content/drive/; to attempt to forcibly remount, call drive.mount(\"/content/drive/\", force_remount=True).\n"
          ],
          "name": "stdout"
        }
      ]
    },
    {
      "cell_type": "code",
      "metadata": {
        "id": "EokgQSWho9AW"
      },
      "source": [
        "url1718 = 'https://raw.githubusercontent.com/jesperiksson/SoccermaticsForPython/master/PL1718.csv'\n",
        "url1819 = 'https://raw.githubusercontent.com/jesperiksson/SoccermaticsForPython/master/PL1819.csv'\n",
        "url1920 = 'https://raw.githubusercontent.com/jesperiksson/SoccermaticsForPython/master/PL1920.csv'"
      ],
      "execution_count": 13,
      "outputs": []
    },
    {
      "cell_type": "code",
      "metadata": {
        "id": "UjmL66JRnhAx"
      },
      "source": [
        "import pandas as pd\n",
        "import numpy as np\n",
        "import matplotlib.pyplot as plt\n",
        "import matplotlib.colors as colors\n",
        "import seaborn as sn\n",
        "import copy\n",
        "import pickle "
      ],
      "execution_count": 14,
      "outputs": []
    },
    {
      "cell_type": "markdown",
      "metadata": {
        "id": "hgfpxGqfGQoX"
      },
      "source": [
        "# Table class \n",
        "A table object contains the ta table at the end of a season"
      ]
    },
    {
      "cell_type": "code",
      "metadata": {
        "id": "0qd3GFEJnnnz"
      },
      "source": [
        "class Table():\n",
        "    # Makes a table at the end of a season\n",
        "    def __init__(self):\n",
        "        self.table = pd.DataFrame( # Initiate an empty table\n",
        "            columns = ['Team','Points','Win','Draw','Lose','Goals for','Goals against','Goal difference']\n",
        "            )\n",
        "        self.games = pd.DataFrame(\n",
        "            columns = ['Home','Away','HG','AG']\n",
        "            )\n",
        "        \n",
        "    def add_numbers(self,team_list): # Is called from the simulate_season method of the Stats class\n",
        "        for i in range(len(team_list)):\n",
        "            t = team_list[i]\n",
        "            self.table = self.table.append(\n",
        "                pd.DataFrame(\n",
        "                    [[t.name,(t.wins*3+t.draws*1),t.wins,t.draws,t.losses,\n",
        "                      t.goals_for,t.goals_against,(t.goals_for-t.goals_against)]],\n",
        "                    columns= ['Team','Points','Win','Draw','Lose','Goals for','Goals against','Goal difference']\n",
        "                    )\n",
        "                )\n",
        "        self.table = self.table.sort_values(by=['Points','Goal difference','Goals for'],ascending=[False,False,False])\n",
        "        self.table.index = range(1,len(self.table)+1)\n",
        "\n",
        "    def add_dict(self,team_dict):\n",
        "        self.team_dict = team_dict\n",
        "    \n",
        "    def show_table(self):\n",
        "        return self.table"
      ],
      "execution_count": 15,
      "outputs": []
    },
    {
      "cell_type": "markdown",
      "metadata": {
        "id": "M1PfoCsFHEQH"
      },
      "source": [
        "# Team class\n"
      ]
    },
    {
      "cell_type": "code",
      "metadata": {
        "id": "iuTlZmvAnz1n"
      },
      "source": [
        "class Team():\n",
        "    # Team objects which populate the Table\n",
        "    def __init__(self,name):\n",
        "        self.name = name\n",
        "        self.wins = 0\n",
        "        self.draws = 0\n",
        "        self.losses = 0\n",
        "        self.goals_for = 0\n",
        "        self.goals_against = 0\n",
        "        \n",
        "    def add_result(self,scored,conceded):\n",
        "        if scored > conceded: # win\n",
        "            self.wins += 1\n",
        "        elif scored == conceded: # draw\n",
        "            self.draws += 1\n",
        "        else: # loss\n",
        "            self.losses +=1 \n",
        "        self.goals_for += scored\n",
        "        self.goals_against += conceded\n",
        "\n",
        "    def remove_result(self,scored,conceded): # For resimulating the entire season\n",
        "        if scored > conceded: # win\n",
        "            self.wins -= 1\n",
        "        elif scored == conceded: # draw\n",
        "            self.draws -= 1\n",
        "        else: # loss\n",
        "            self.losses -=1 \n",
        "        self.goals_for -= scored\n",
        "        self.goals_against -= conceded\n"
      ],
      "execution_count": 16,
      "outputs": []
    },
    {
      "cell_type": "markdown",
      "metadata": {
        "id": "ClZan4YAMzTw"
      },
      "source": [
        "# Stats class"
      ]
    },
    {
      "cell_type": "code",
      "metadata": {
        "id": "tpFSa4YIn7PO"
      },
      "source": [
        "class Stats(): # raw data, teams, colors, parameters, etc. \n",
        "    def __init__(self,df):\n",
        "        self.df = df\n",
        "        self.team_colors = {'Arsenal':'#ef0107', 'Aston Villa':'#95bfe5', 'Bournemouth':'#da291c', 'Brighton':'#0057b8',\n",
        "               'Burnley':'#6c1d45', 'Chelsea':'#034694', 'Crystal Palace':'#1b458f', 'Everton':'#003399',\n",
        "               'Leicester':'#003090', 'Liverpool':'#c8102e', 'Man City':'#6cabdd', 'Man United':'#da291c',\n",
        "               'Newcastle':'#241f20', 'Norwich':'#fff200', 'Sheffield United':'#ee2737', \n",
        "               'Southampton':'#d71920', 'Tottenham':'#132257', 'Watford':'#fbee23', 'West Ham':'#7a263a',\n",
        "               'Wolves':'#fdb913'}\n",
        "        #https://towardsdatascience.com/visualizing-the-2019-20-english-premier-league-season-with-matplotlib-and-pandas-fd491a07cfda    \n",
        "        \n",
        "        self.teams = list(set(df['HomeTeam']))        \n",
        "        self.home_teams = list(df['HomeTeam'])\n",
        "        self.away_teams = list(df['AwayTeam'])\n",
        "        expected_values = pd.DataFrame(columns = ['Team','ExpectedScored','ExpectedConceded']) # initiate empty DataFrame\n",
        "        # Naive approach, each team has a offense and a defense expected value\n",
        "        # Generates a DataFrame with teams and their excpected values\n",
        "        for i in range(len(self.teams)):\n",
        "            avg_score = (np.sum(df.loc[df['HomeTeam'] == self.teams[i]]['FTHG']) + np.sum(df.loc[df['AwayTeam'] == self.teams[i]]['FTAG']))/(len(df)/len(self.teams)*2)\n",
        "            avg_letin = (np.sum(df.loc[df['HomeTeam'] == self.teams[i]]['FTAG']) + np.sum(df.loc[df['AwayTeam'] == self.teams[i]]['FTHG']))/(len(df)/len(self.teams)*2)\n",
        "            expected_values = expected_values.append( # Populate the DataFrame\n",
        "                pd.DataFrame(\n",
        "                    [[self.teams[i],avg_score,avg_letin]], columns= ['Team','ExpectedScored','ExpectedConceded']\n",
        "                    )\n",
        "                )\n",
        "        expected_values.index = range(1,len(self.teams)+1)\n",
        "        self.expected_values = expected_values # The input values for the naive approach\n",
        "        \n",
        "        # Including home advantage, each team has two home and away parameters\n",
        "        # Generates a DataFrame with teams and their excpected values\n",
        "        expected_values_home = pd.DataFrame(columns = ['Team','ExpectedScored','ExpectedConceded'])\n",
        "        expected_values_away = pd.DataFrame(columns = ['Team','ExpectedScored','ExpectedConceded'])\n",
        "        for i in range(len(self.teams)):\n",
        "            avg_score_home = (np.sum(df.loc[df['HomeTeam'] == self.teams[i]]['FTHG']))/(len(df)/len(self.teams))\n",
        "            avg_letin_home = (np.sum(df.loc[df['HomeTeam'] == self.teams[i]]['FTAG']))/(len(df)/len(self.teams))\n",
        "            avg_score_away = (np.sum(df.loc[df['AwayTeam'] == self.teams[i]]['FTAG']))/(len(df)/len(self.teams))\n",
        "            avg_letin_away = (np.sum(df.loc[df['AwayTeam'] == self.teams[i]]['FTHG']))/(len(df)/len(self.teams))\n",
        "            expected_values_home = expected_values_home.append(\n",
        "                pd.DataFrame(\n",
        "                    [[self.teams[i],avg_score_home,avg_letin_home]], columns = ['Team','ExpectedScored','ExpectedConceded'])\n",
        "                )\n",
        "            expected_values_away = expected_values_away.append(\n",
        "                pd.DataFrame(\n",
        "                    [[self.teams[i],avg_score_away,avg_letin_away]], columns = ['Team','ExpectedScored','ExpectedConceded'])\n",
        "                )\n",
        "        expected_values_home.index = range(1,len(self.teams)+1)\n",
        "        expected_values_away.index = range(1,len(self.teams)+1)\n",
        "        self.expected_values_home = expected_values_home # The input values when \n",
        "        self.expected_values_away = expected_values_away # considering home advantage\n",
        "\n",
        "        self.games = pd.DataFrame( # Initiate an empty table\n",
        "            columns = ['Ht','At','Hg','Ag']\n",
        "            )\n",
        "\n",
        "    def simulate_game_poisson(self,home_expected_scored, home_expected_conceded, away_expected_scored, away_expected_conceded):\n",
        "        # Simple model to predict the result using poisson distribution\n",
        "        home_expected = (home_expected_scored + away_expected_conceded)/2\n",
        "        away_expected = (away_expected_scored + home_expected_conceded)/2\n",
        "        home_goals = np.random.poisson(home_expected)\n",
        "        away_goals = np.random.poisson(away_expected)    \n",
        "        return home_goals, away_goals\n",
        "    \n",
        "\n",
        "    \n",
        "    def simulate_season(self):\n",
        "        # A single season\n",
        "        table = Table()\n",
        "        team_dict = {} # Using a dictionary to keep track of the Team instances\n",
        "        for i in range(len(self.teams)):\n",
        "            team_dict.update({\n",
        "                self.teams[i] : Team(self.teams[i])})\n",
        "        for i in range(len(self.df)):\n",
        "            home_team = self.home_teams[i]\n",
        "            away_team = self.away_teams[i]\n",
        "            home_goals, away_goals = self.simulate_game_poisson(\n",
        "                float(self.expected_values.loc[self.expected_values['Team'] == home_team]['ExpectedScored']),\n",
        "                float(self.expected_values.loc[self.expected_values['Team'] == home_team]['ExpectedConceded']),\n",
        "                float(self.expected_values.loc[self.expected_values['Team'] == away_team]['ExpectedScored']),\n",
        "                float(self.expected_values.loc[self.expected_values['Team'] == away_team]['ExpectedConceded'])\n",
        "                )\n",
        "            team_dict[home_team].add_result(home_goals,away_goals)\n",
        "            team_dict[away_team].add_result(away_goals,home_goals)\n",
        "            self.games = self.games.append(\n",
        "                pd.DataFrame(\n",
        "                    [[home_team,away_team,home_goals,away_goals]],\n",
        "                    columns = ['Ht','At','Hg','Ag'],\n",
        "                    index = [i])\n",
        "            )\n",
        "\n",
        "        table.add_dict(team_dict)\n",
        "        table.add_numbers(list(team_dict.values()))\n",
        "        return table\n",
        "    \n",
        "    def simulate_season_homeaway(self): # Same as above but considering home advantage and away disadvantage\n",
        "        table = Table()\n",
        "        team_dict = {}\n",
        "        for i in range(len(self.teams)):\n",
        "            team_dict.update({\n",
        "                self.teams[i] : Team(self.teams[i])})\n",
        "        for i in range(len(self.df)):\n",
        "            home_team = self.home_teams[i]\n",
        "            away_team = self.away_teams[i]\n",
        "            home_goals, away_goals = self.simulate_game_poisson(\n",
        "                float(self.expected_values_home.loc[self.expected_values_home['Team'] == home_team]['ExpectedScored']),\n",
        "                float(self.expected_values_home.loc[self.expected_values_home['Team'] == home_team]['ExpectedConceded']),\n",
        "                float(self.expected_values_away.loc[self.expected_values_away['Team'] == away_team]['ExpectedScored']),\n",
        "                float(self.expected_values_away.loc[self.expected_values_away['Team'] == away_team]['ExpectedConceded'])\n",
        "                )\n",
        "            team_dict[home_team].add_result(home_goals,away_goals)\n",
        "            team_dict[away_team].add_result(away_goals,home_goals)\n",
        "            self.games = self.games.append(\n",
        "                pd.DataFrame(\n",
        "                    [[home_team,away_team,home_goals,away_goals]],\n",
        "                    columns = ['Ht','At','Hg','Ag'],\n",
        "                    index = [i])\n",
        "            )  \n",
        "        \n",
        "        table.add_dict(team_dict)\n",
        "        table.add_numbers(list(team_dict.values())) \n",
        "        return table\n",
        "    \n",
        "    def set_custom_mu(self,team,home_or_away,score_or_concede,value):\n",
        "        if score_or_concede == 'score': # scored\n",
        "            col = 'ExpectedScored'\n",
        "        elif score_or_concede == 'concede':\n",
        "            col = 'ExpectedConceded'\n",
        "        if home_or_away == 'home':\n",
        "            id  = self.expected_values_home.index[self.expected_values_home['Team'] == team][0]\n",
        "            old = self.expected_values_home.at[id,col]\n",
        "            self.expected_values_home.at[id,col]=value\n",
        "            print(team+'\\'s '+col+' value for home games is now '+str(value)+', previously it was '+str(old))\n",
        "        elif home_or_away == 'away':\n",
        "            id  = self.expected_values_away.index[self.expected_values_away['Team'] == team][0]\n",
        "            old = self.expected_values_away.at[id,col]\n",
        "            self.expected_values_away.at[id,col]=value\n",
        "            print(team+'\\'s '+col+' value for away games is now '+str(value)+', previously it was '+str(old))\n",
        "        else:\n",
        "            id  = self.expected_values.index[self.expected_values['Team'] == team][0]\n",
        "            old = self.expected_values.at[id,col]\n",
        "            self.expected_values.at[id,col]=value\n",
        "            print(team+'\\'s '+col+' value for all games is now '+str(value)+', previously it was '+str(old))  \n",
        "\n",
        "    def resimulate_season(self,table,team):\n",
        "        new_table = Table()\n",
        "        for i in range(len(self.df)):\n",
        "            home_team = self.home_teams[i]\n",
        "            away_team = self.away_teams[i]\n",
        "            if team in [home_team,away_team]:\n",
        "                previous_home_goals = self.games.iloc[i]['Hg']\n",
        "                previous_away_goals = self.games.iloc[i]['Ag']\n",
        "                table.team_dict[home_team].remove_result(previous_home_goals,previous_away_goals)\n",
        "                table.team_dict[away_team].remove_result(previous_away_goals,previous_home_goals) \n",
        "\n",
        "                home_goals, away_goals = self.simulate_game_poisson(\n",
        "                    float(self.expected_values.loc[self.expected_values['Team'] == home_team]['ExpectedScored']),\n",
        "                    float(self.expected_values.loc[self.expected_values['Team'] == home_team]['ExpectedConceded']),\n",
        "                    float(self.expected_values.loc[self.expected_values['Team'] == away_team]['ExpectedScored']),\n",
        "                    float(self.expected_values.loc[self.expected_values['Team'] == away_team]['ExpectedConceded'])\n",
        "                    )\n",
        "                table.team_dict[home_team].add_result(home_goals,away_goals)\n",
        "                table.team_dict[away_team].add_result(away_goals,home_goals) \n",
        "            else:\n",
        "                pass\n",
        "        new_table.add_numbers(list(table.team_dict.values()))\n",
        "        new_table.add_dict(table.team_dict)\n",
        "        return new_table         \n",
        "\n",
        "    def resimulate_season_homeaway(self,table,team):\n",
        "        new_table = Table()\n",
        "        for i in range(len(self.df)):\n",
        "            home_team = self.home_teams[i]\n",
        "            away_team = self.away_teams[i]\n",
        "            if team in [home_team,away_team]:\n",
        "                previous_home_goals = self.games.iloc[i]['Hg']\n",
        "                previous_away_goals = self.games.iloc[i]['Ag']\n",
        "                table.team_dict[home_team].remove_result(previous_home_goals,previous_away_goals)\n",
        "                table.team_dict[away_team].remove_result(previous_away_goals,previous_home_goals) \n",
        "\n",
        "                home_goals, away_goals = self.simulate_game_poisson(\n",
        "                    float(self.expected_values_home.loc[self.expected_values_home['Team'] == home_team]['ExpectedScored']),\n",
        "                    float(self.expected_values_home.loc[self.expected_values_home['Team'] == home_team]['ExpectedConceded']),\n",
        "                    float(self.expected_values_away.loc[self.expected_values_away['Team'] == away_team]['ExpectedScored']),\n",
        "                    float(self.expected_values_away.loc[self.expected_values_away['Team'] == away_team]['ExpectedConceded'])\n",
        "                    )\n",
        "                table.team_dict[home_team].add_result(home_goals,away_goals)\n",
        "                table.team_dict[away_team].add_result(away_goals,home_goals) \n",
        "            else:\n",
        "                pass\n",
        "        new_table.add_numbers(list(table.team_dict.values()))\n",
        "        new_table.add_dict(table.team_dict)\n",
        "        return new_table\n",
        "\n"
      ],
      "execution_count": 17,
      "outputs": []
    },
    {
      "cell_type": "markdown",
      "metadata": {
        "id": "HqTRnFpiMvEb"
      },
      "source": [
        "# Simulation class"
      ]
    },
    {
      "cell_type": "code",
      "metadata": {
        "id": "p9qk8o7JnXib"
      },
      "source": [
        "class Simulation(Stats): # Same as Stats but for simulating several seasons\n",
        "    def __init__(self,df,n,team_of_interest = 'Liverpool',figsize = 3, dpi = 200):\n",
        "        super().__init__(df)\n",
        "        self.n_seasons = n # Number of seasons to simulate\n",
        "        self.team_of_interest = team_of_interest\n",
        "        self.figsize = figsize\n",
        "        self.dpi = 200\n",
        "    \n",
        "    def simulate_seasons(self):\n",
        "        season_list = np.array([])\n",
        "        for i in range(self.n_seasons): # building a list of all seasons\n",
        "            if i % 50 == 0:\n",
        "                print('Season '+str(i)+' out of '+str(self.n_seasons))\n",
        "            season_list = np.append(season_list,self.simulate_season())\n",
        "        self.season_list = season_list # Last season is stored \n",
        "            \n",
        "    def simulate_seasons_homeaway(self):\n",
        "        season_list = np.array([])\n",
        "        for i in range(self.n_seasons): # building a list of all seasons\n",
        "            if i % 100 == 0:\n",
        "                print('Season '+str(i+1)+' out of '+str(self.n_seasons))\n",
        "            season_list = np.append(season_list,self.simulate_season_homeaway())\n",
        "        self.season_list_homeaway = season_list\n",
        "    \n",
        "    def resimulate_seasons(self,team):\n",
        "        for i in range(self.n_seasons):\n",
        "            self.season_list[i] = self.resimulate_season(self.season_list[i],team)\n",
        "\n",
        "    def resimulate_seasons_homeaway(self,team):\n",
        "        #new_season_list = []\n",
        "        for i in range(self.n_seasons):\n",
        "            self.season_list_homeaway[i] = self.resimulate_season_homeaway(self.season_list_homeaway[i],team)\n",
        "\n",
        "    def plot_hist(self):\n",
        "        #Plot histogram with selected teams positions\n",
        "        fig = plt.figure(dpi=self.dpi)\n",
        "        ax = fig.add_subplot(111)\n",
        "        cut_off = 6 # The lowest position for which to extend the histogram\n",
        "        # teams = list(self.team_colors.keys()) # to use all teams\n",
        "        teams = ['Man City','Liverpool','Arsenal','Chelsea','Man United'] # to use selected teams\n",
        "        places = np.array([])\n",
        "        for team in teams:\n",
        "            try: # The main case\n",
        "                places = np.concatenate((places, # store the positions for each team for each season\n",
        "                    [self.season_list[season].table.loc[self.season_list[season].table['Team'] == team].index for season in range(len(self.season_list))]),\n",
        "                    axis = -1)\n",
        "            except ValueError: # accounting for the edge case where there is no season list\n",
        "                places = np.array(\n",
        "                    [self.season_list[season].table.loc[self.season_list[season].table['Team'] == team].index for season in range(len(self.season_list))])\n",
        "        \n",
        "        plt.hist(places, \n",
        "                 bins = np.arange(1, cut_off + 1.5) - 0.5, # Putting the bins over the xtick  \n",
        "                 histtype = 'bar',\n",
        "                 color = [self.team_colors[t] for t in teams], # colors of selected teams\n",
        "                 ec = 'k', # Edgecolor \n",
        "                 alpha = 0.9, \n",
        "                 zorder = 2)\n",
        "        plt.xticks(range(int(np.min(places)),int(np.max(places)+1)))\n",
        "        plt.xlabel('Position')\n",
        "        plt.ylabel('Frequency')\n",
        "        plt.title('End of season placement distribution over ' + str(len(self.season_list_homeaway))+' seasons')\n",
        "        plt.legend(teams)\n",
        "        ax.set_facecolor('lightgray')\n",
        "        ax.grid(color = 'white',linewidth = 0.2,zorder = 1)\n",
        "        plt.show()\n",
        "\n",
        "\n",
        "    def plot_hist_homeaway(self):\n",
        "        #Plot histogram with selected teams positions\n",
        "        fig = plt.figure(dpi=self.dpi)\n",
        "        ax = fig.add_subplot(111)\n",
        "        cut_off = 6 # The lowest position for which to extend the histogram\n",
        "        # teams = list(self.team_colors.keys()) # to use all teams\n",
        "        teams = ['Man City','Liverpool','Arsenal','Chelsea','Man United'] # to use selected teams\n",
        "        places = np.array([])\n",
        "        for team in teams:\n",
        "            try: # The main case\n",
        "                places = np.concatenate((places, # store the positions for each team for each season\n",
        "                    [self.season_list_homeaway[season].table.loc[self.season_list_homeaway[season].table['Team'] == team].index for season in range(len(self.season_list_homeaway))]),\n",
        "                    axis = -1)\n",
        "            except ValueError: # accounting for the edge case where there is no season list\n",
        "                places = np.array(\n",
        "                    [self.season_list_homeaway[season].table.loc[self.season_list_homeaway[season].table['Team'] == team].index for season in range(len(self.season_list_homeaway))])\n",
        "        \n",
        "        plt.hist(places, \n",
        "                 bins = np.arange(1, cut_off + 1.5) - 0.5, # Putting the bins over the xtick  \n",
        "                 histtype = 'bar',\n",
        "                 color = [self.team_colors[t] for t in teams], # colors of selected teams\n",
        "                 ec = 'k', # Edgecolor \n",
        "                 alpha = 0.9, \n",
        "                 zorder = 2)\n",
        "        plt.xticks(range(int(np.min(places)),int(np.max(places)+1)))\n",
        "        plt.xlabel('Position')\n",
        "        plt.ylabel('Frequency')\n",
        "        plt.title('End of season placement distribution over ' + str(len(self.season_list_homeaway))+' seasons')\n",
        "        plt.legend(teams)\n",
        "        ax.set_facecolor('lightgray')\n",
        "        ax.grid(color = 'white',linewidth = 0.2,zorder = 1)\n",
        "        plt.show()\n",
        "        \n",
        "    def calc_freq(self):\n",
        "        # Calculate frequency of each final position for each team\n",
        "        try: # If there is a simulation with results that can be counted\n",
        "            teams = self.teams\n",
        "            places = np.array([])\n",
        "            for team in teams:\n",
        "                try: # This is redundant \n",
        "                    places = np.concatenate((places,\n",
        "                        [self.season_list[season].table.loc[self.season_list[season].table['Team'] == team].index for season in range(len(self.season_list))]),\n",
        "                        axis = -1)\n",
        "                except ValueError:\n",
        "                    places = np.array(\n",
        "                        [self.season_list[season].table.loc[self.season_list[season].table['Team'] == team].index for season in range(len(self.season_list))])\n",
        "            \n",
        "            freq = np.array([sum(places[:,t]==place+1) for t in range(len(teams)) for place in range(len(teams))])\n",
        "            freq = freq.reshape((len(teams),len(teams))) # rows : teams, cols : places\n",
        "            self.freq = freq\n",
        "        except NameError:\n",
        "            print('No simulation has been ran')\n",
        "            \n",
        "    def calc_freq_homeaway(self):\n",
        "        # Calculate frequency of each final position for each team\n",
        "        try: # If there is a simulation with results that can be counted\n",
        "            teams = self.teams\n",
        "            places = np.array([])\n",
        "            for team in teams:\n",
        "                try: # This is redundant \n",
        "                    places = np.concatenate((places,\n",
        "                        [self.season_list_homeaway[season].table.loc[self.season_list_homeaway[season].table['Team'] == team].index for season in range(len(self.season_list_homeaway))]),\n",
        "                        axis = -1)\n",
        "                except ValueError:\n",
        "                    places = np.array(\n",
        "                        [self.season_list_homeaway[season].table.loc[self.season_list_homeaway[season].table['Team'] == team].index for season in range(len(self.season_list_homeaway))])\n",
        "            \n",
        "            freq = np.array([sum(places[:,t]==place+1) for t in range(len(teams)) for place in range(len(teams))])\n",
        "            freq = freq.reshape((len(teams),len(teams))) # rows : teams, cols : places\n",
        "            self.freq_homeaway = freq\n",
        "        except NameError:\n",
        "            print('No simulation has been ran')\n",
        "\n",
        "    \n",
        "    def plot_pie(self,rows = 4,cols = 5): # Draw a pie chart for the distribution for each place\n",
        "        def my_autopct(pct): # Utility function for plot_pie\n",
        "            return ('%.2f' % pct) if pct > 5 else ''\n",
        "        n_places = cols*rows\n",
        "        for i in range(n_places):\n",
        "            plt.figure(dpi=self.dpi)\n",
        "            #ax = fig.add_subplot(rows,cols,i+1)\n",
        "            plt.pie(\n",
        "                self.freq[:,i],\n",
        "                explode = [0.1 if t == self.team_of_interest else 0 for t in self.teams],\n",
        "                labels = list(self.team_colors.keys()),\n",
        "                colors = list(self.team_colors.values()),\n",
        "                autopct=my_autopct,  # Draw percentage\n",
        "                labeldistance = 1,\n",
        "                rotatelabels=True,\n",
        "                radius=1.5)\n",
        "            plt.tight_layout\n",
        "            plt.title(\n",
        "                'Proportion of the times each team ended up in position '+str(i+1),\n",
        "                loc = 'center',\n",
        "                pad = 100)\n",
        "            plt.show()\n",
        "\n",
        "    def get_position_crosstab(self):\n",
        "        fig = plt.figure(dpi=self.dpi)\n",
        "        fig.set_size_inches(self.figsize,self.figsize)\n",
        "        crosstab = pd.DataFrame(\n",
        "            self.freq,\n",
        "            columns=range(1,21),\n",
        "            index = self.teams)\n",
        "        crosstab = crosstab.sort_values(\n",
        "            by=[crosstab.columns[i] for i in range(len(crosstab.columns))],\n",
        "            ascending=[False]*len(crosstab.columns))\n",
        "        self.crosstab = crosstab # If you want to do some statistics\n",
        "\n",
        "    def plot_position_crosstab(self): # Plots the heatmap \n",
        "        fig = plt.figure(dpi=self.dpi)\n",
        "        fig.set_size_inches(self.figsize,self.figsize)\n",
        "        crosstab = pd.DataFrame(\n",
        "            self.freq,\n",
        "            columns=range(1,21),\n",
        "            index = self.teams)\n",
        "        crosstab = crosstab.sort_values(\n",
        "            by=[crosstab.columns[i] for i in range(len(crosstab.columns))],\n",
        "            ascending=[False]*len(crosstab.columns))\n",
        "        self.crosstab = crosstab # If you want to do some statistics\n",
        "        crosstab_percent = crosstab.div(np.ones((len(crosstab.columns),len(crosstab.index)))*self.n_seasons)\n",
        "        crosstab_percent = crosstab_percent.mul(np.ones((len(crosstab.columns),len(crosstab.index)))*100)\n",
        "        ax = sn.heatmap( # TBD, change the annotations to percentage of all seasons\n",
        "            data=crosstab_percent.T,\n",
        "            norm = colors.PowerNorm(gamma=0.4), #  Ḿore emphasis towards the green end\n",
        "            cmap = 'RdYlGn', # Is there a better one?\n",
        "            cbar = False,\n",
        "            annot = True,\n",
        "            fmt=\".0f\",\n",
        "            xticklabels=True, \n",
        "            yticklabels=True)\n",
        "        ax.set_yticks = range(1,21)\n",
        "        #ax.tight_layout()\n",
        "        ax.plot()\n",
        "\n",
        "    def get_position_crosstab_homeaway(self): \n",
        "        crosstab = pd.DataFrame(\n",
        "            self.freq_homeaway,\n",
        "            columns=range(1,21),\n",
        "            index = self.teams)\n",
        "        crosstab = crosstab.sort_values(\n",
        "            by=[crosstab.columns[i] for i in range(len(crosstab.columns))],\n",
        "            ascending=[False]*len(crosstab.columns))\n",
        "        self.crosstab_homeaway = crosstab # If you want to do some statistics\n",
        "     \n",
        "    def plot_position_crosstab_homeaway(self): # Plots the heatmap \n",
        "        fig = plt.figure(dpi=self.dpi)\n",
        "        fig.set_size_inches(self.figsize,self.figsize)\n",
        "        crosstab = pd.DataFrame(\n",
        "            self.freq_homeaway,\n",
        "            columns=range(1,21),\n",
        "            index = self.teams)\n",
        "        crosstab = crosstab.sort_values(\n",
        "            by=[crosstab.columns[i] for i in range(len(crosstab.columns))],\n",
        "            ascending=[False]*len(crosstab.columns))\n",
        "        self.crosstab = crosstab # If you want to do some statistics\n",
        "        crosstab_percent = crosstab.div(np.ones((len(crosstab.columns),len(crosstab.index)))*self.n_seasons)\n",
        "        crosstab_percent = crosstab_percent.mul(np.ones((len(crosstab.columns),len(crosstab.index)))*100)\n",
        "        ax = sn.heatmap( # TBD, change the annotations to percentage of all seasons\n",
        "            data=crosstab_percent.T,\n",
        "            norm = colors.PowerNorm(gamma=0.4), #  Ḿore emphasis towards the green end\n",
        "            cmap = 'RdYlGn', # Is there a better one?\n",
        "            cbar = False,\n",
        "            annot = True,\n",
        "            fmt=\".0f\",\n",
        "            xticklabels=True, \n",
        "            yticklabels=True)\n",
        "        ax.set_yticks = range(1,21)\n",
        "        #ax.tight_layout()\n",
        "        ax.plot()\n",
        "\n",
        "    def get_average_position(self,team = 'Liverpool'):\n",
        "        numerator = 0\n",
        "        denominator = 0\n",
        "        for position in self.crosstab.loc[team].index:\n",
        "            frequency = self.crosstab.loc[team][position]\n",
        "            numerator += position * frequency\n",
        "            denominator += frequency\n",
        "        self.average_position = int(np.round(numerator/denominator,0))\n",
        "\n",
        "    def get_average_position_homeaway(self,team = 'Liverpool'):\n",
        "        numerator = 0\n",
        "        denominator = 0\n",
        "        for position in self.crosstab_homeaway.loc[team].index:\n",
        "            frequency = self.crosstab_homeaway.loc[team][position]\n",
        "            numerator += position * frequency\n",
        "            denominator += frequency\n",
        "        self.average_position_homeaway = int(np.round(numerator/denominator,0))\n"
      ],
      "execution_count": 18,
      "outputs": []
    },
    {
      "cell_type": "markdown",
      "metadata": {
        "id": "OVyIfct9Zaph"
      },
      "source": [
        "# Scenario Class"
      ]
    },
    {
      "cell_type": "code",
      "metadata": {
        "id": "T8ZuMKFDZZyZ"
      },
      "source": [
        "class Scenario(Simulation):\n",
        "    def __init__(self,df,n,concede_scenarios,score_scenarios,team_of_interest = 'Liverpool',figsize = 3, dpi = 200,):\n",
        "        super().__init__(df,n,team_of_interest = 'Liverpool',figsize = 3, dpi = 200)\n",
        "        self.concede_scenarios = concede_scenarios\n",
        "        self.score_scenarios = score_scenarios\n",
        "\n",
        "        simulation_list = list()\n",
        "        for xC in stepsC:\n",
        "            for xS in stepsS:\n",
        "                self.set_custom_mu(team,'away','score',xS)\n",
        "                self.set_custom_mu(team,'home','score',xS)\n",
        "                self.set_custom_mu(team,'away','concede',xC)\n",
        "                self.set_custom_mu(team,'home','concede',xC)\n",
        "                self.resimulate_seasons_homeaway(team)\n",
        "                self.calc_freq_homeaway()\n",
        "                put_in_pickle_jar(sim1,path,team+'score'+str(xC)+str(xS)+'1819')\n"
      ],
      "execution_count": 19,
      "outputs": []
    },
    {
      "cell_type": "markdown",
      "metadata": {
        "id": "1qytutL_M6CL"
      },
      "source": [
        "# Pickle and unpickle functions"
      ]
    },
    {
      "cell_type": "code",
      "metadata": {
        "id": "DW4xQ0vSynTl"
      },
      "source": [
        "def put_in_pickle_jar(object,path,name):\n",
        "    with open(path+name, 'wb') as pickle_file:\n",
        "        pickle.dump(obj = object, file = pickle_file)\n",
        "\n",
        "def remove_from_pickle_jar(path,name):\n",
        "    with open(path+name, 'rb') as f:\n",
        "        return pickle.load(f)"
      ],
      "execution_count": 20,
      "outputs": []
    },
    {
      "cell_type": "markdown",
      "metadata": {
        "id": "c7ikGkm5M5dD"
      },
      "source": [
        "# Control code"
      ]
    },
    {
      "cell_type": "code",
      "metadata": {
        "id": "g7X1hsmXpaV1"
      },
      "source": [
        "# Make DataFrames\n",
        "df1718 = pd.read_csv(url1718)\n",
        "df1819 = pd.read_csv(url1819)\n",
        "df1920 = pd.read_csv(url1920)"
      ],
      "execution_count": 21,
      "outputs": []
    },
    {
      "cell_type": "code",
      "metadata": {
        "id": "iz53Q2b2eLMl",
        "outputId": "196e8b50-ef6c-45a4-ee3e-a43b54a2d21b",
        "colab": {
          "base_uri": "https://localhost:8080/",
          "height": 581
        }
      },
      "source": [
        "baseline = Simulation(df1718,1000)\n",
        "baseline.simulate_seasons()\n",
        "put_in_pickle_jar(baseline,path,'baseline_1718_1000')\n",
        "\n"
      ],
      "execution_count": 22,
      "outputs": [
        {
          "output_type": "stream",
          "text": [
            "Season 0 out of 1000\n",
            "Season 50 out of 1000\n",
            "Season 100 out of 1000\n",
            "Season 150 out of 1000\n",
            "Season 200 out of 1000\n",
            "Season 250 out of 1000\n",
            "Season 300 out of 1000\n",
            "Season 350 out of 1000\n",
            "Season 400 out of 1000\n",
            "Season 450 out of 1000\n",
            "Season 500 out of 1000\n",
            "Season 550 out of 1000\n",
            "Season 600 out of 1000\n",
            "Season 650 out of 1000\n",
            "Season 700 out of 1000\n",
            "Season 750 out of 1000\n",
            "Season 800 out of 1000\n",
            "Season 850 out of 1000\n",
            "Season 900 out of 1000\n",
            "Season 950 out of 1000\n"
          ],
          "name": "stdout"
        },
        {
          "output_type": "error",
          "ename": "NameError",
          "evalue": "ignored",
          "traceback": [
            "\u001b[0;31m---------------------------------------------------------------------------\u001b[0m",
            "\u001b[0;31mNameError\u001b[0m                                 Traceback (most recent call last)",
            "\u001b[0;32m<ipython-input-22-2fb3e008a38e>\u001b[0m in \u001b[0;36m<module>\u001b[0;34m()\u001b[0m\n\u001b[1;32m      9\u001b[0m \u001b[0;32mfor\u001b[0m \u001b[0mxC\u001b[0m \u001b[0;32min\u001b[0m \u001b[0mstepsC\u001b[0m\u001b[0;34m:\u001b[0m\u001b[0;34m\u001b[0m\u001b[0;34m\u001b[0m\u001b[0m\n\u001b[1;32m     10\u001b[0m     \u001b[0;32mfor\u001b[0m \u001b[0mxS\u001b[0m \u001b[0;32min\u001b[0m \u001b[0mstepsS\u001b[0m\u001b[0;34m:\u001b[0m\u001b[0;34m\u001b[0m\u001b[0;34m\u001b[0m\u001b[0m\n\u001b[0;32m---> 11\u001b[0;31m         \u001b[0msim1\u001b[0m\u001b[0;34m.\u001b[0m\u001b[0mset_custom_mu\u001b[0m\u001b[0;34m(\u001b[0m\u001b[0mteam\u001b[0m\u001b[0;34m,\u001b[0m\u001b[0;34m'away'\u001b[0m\u001b[0;34m,\u001b[0m\u001b[0;34m'score'\u001b[0m\u001b[0;34m,\u001b[0m\u001b[0mxS\u001b[0m\u001b[0;34m)\u001b[0m\u001b[0;34m\u001b[0m\u001b[0;34m\u001b[0m\u001b[0m\n\u001b[0m\u001b[1;32m     12\u001b[0m         \u001b[0msim1\u001b[0m\u001b[0;34m.\u001b[0m\u001b[0mset_custom_mu\u001b[0m\u001b[0;34m(\u001b[0m\u001b[0mteam\u001b[0m\u001b[0;34m,\u001b[0m\u001b[0;34m'home'\u001b[0m\u001b[0;34m,\u001b[0m\u001b[0;34m'score'\u001b[0m\u001b[0;34m,\u001b[0m\u001b[0mxS\u001b[0m\u001b[0;34m)\u001b[0m\u001b[0;34m\u001b[0m\u001b[0;34m\u001b[0m\u001b[0m\n\u001b[1;32m     13\u001b[0m         \u001b[0msim1\u001b[0m\u001b[0;34m.\u001b[0m\u001b[0mset_custom_mu\u001b[0m\u001b[0;34m(\u001b[0m\u001b[0mteam\u001b[0m\u001b[0;34m,\u001b[0m\u001b[0;34m'away'\u001b[0m\u001b[0;34m,\u001b[0m\u001b[0;34m'concede'\u001b[0m\u001b[0;34m,\u001b[0m\u001b[0mxC\u001b[0m\u001b[0;34m)\u001b[0m\u001b[0;34m\u001b[0m\u001b[0;34m\u001b[0m\u001b[0m\n",
            "\u001b[0;31mNameError\u001b[0m: name 'sim1' is not defined"
          ]
        }
      ]
    },
    {
      "cell_type": "code",
      "metadata": {
        "id": "LVEvpoMu7sDK",
        "outputId": "e31e7208-4623-453b-cec5-10362fde5834",
        "colab": {
          "base_uri": "https://localhost:8080/"
        }
      },
      "source": [
        "baseline = remove_from_pickle_jar(path,'baseline_1718_1000')\n",
        "big_list = list()\n",
        "team = 'Liverpool'\n",
        "stepsS = [1.5,1.75,2.0,2.221,2.50,2.75,3.0,3.25]\n",
        "stepsC = [0.3,0.5,0.7,0.9,1.0,1.1,1.3,1.5]\n",
        "for xC in stepsC:\n",
        "    baseline.set_custom_mu(team,'away','concede',xC)\n",
        "    baseline.set_custom_mu(team,'home','concede',xC)\n",
        "    for xS in stepsS:\n",
        "        baseline.set_custom_mu(team,'away','score',xS)\n",
        "        baseline.set_custom_mu(team,'home','score',xS)\n",
        "        baseline.resimulate_seasons(team)\n",
        "        baseline.calc_freq()\n",
        "        put_in_pickle_jar(baseline,path,team+'_concede:'+str(xC)+'_score:'+str(xS)+'_1718')\n",
        "\n",
        "sim_list = list()\n",
        "team = 'Liverpool'\n",
        "for xC in stepsD:\n",
        "    for xS in stepsO:\n",
        "        sim_list.append(remove_from_pickle_jar(path,team+'_concede:'+str(xC)+'_score:'+str(xS)+'_1718'))"
      ],
      "execution_count": null,
      "outputs": [
        {
          "output_type": "stream",
          "text": [
            "Liverpool's ExpectedScored value for away games is now 1.5, previously it was 2.0526315789473686\n",
            "Liverpool's ExpectedScored value for home games is now 1.5, previously it was 2.3684210526315788\n",
            "Liverpool's ExpectedConceded value for away games is now 0.3, previously it was 1.4736842105263157\n",
            "Liverpool's ExpectedConceded value for home games is now 0.3, previously it was 0.5263157894736842\n",
            "Liverpool's ExpectedScored value for away games is now 1.75, previously it was 1.5\n",
            "Liverpool's ExpectedScored value for home games is now 1.75, previously it was 1.5\n",
            "Liverpool's ExpectedConceded value for away games is now 0.3, previously it was 0.3\n",
            "Liverpool's ExpectedConceded value for home games is now 0.3, previously it was 0.3\n",
            "Liverpool's ExpectedScored value for away games is now 2.0, previously it was 1.75\n",
            "Liverpool's ExpectedScored value for home games is now 2.0, previously it was 1.75\n",
            "Liverpool's ExpectedConceded value for away games is now 0.3, previously it was 0.3\n",
            "Liverpool's ExpectedConceded value for home games is now 0.3, previously it was 0.3\n",
            "Liverpool's ExpectedScored value for away games is now 2.221, previously it was 2.0\n",
            "Liverpool's ExpectedScored value for home games is now 2.221, previously it was 2.0\n",
            "Liverpool's ExpectedConceded value for away games is now 0.3, previously it was 0.3\n",
            "Liverpool's ExpectedConceded value for home games is now 0.3, previously it was 0.3\n",
            "Liverpool's ExpectedScored value for away games is now 2.5, previously it was 2.221\n",
            "Liverpool's ExpectedScored value for home games is now 2.5, previously it was 2.221\n",
            "Liverpool's ExpectedConceded value for away games is now 0.3, previously it was 0.3\n",
            "Liverpool's ExpectedConceded value for home games is now 0.3, previously it was 0.3\n",
            "Liverpool's ExpectedScored value for away games is now 2.75, previously it was 2.5\n",
            "Liverpool's ExpectedScored value for home games is now 2.75, previously it was 2.5\n",
            "Liverpool's ExpectedConceded value for away games is now 0.3, previously it was 0.3\n",
            "Liverpool's ExpectedConceded value for home games is now 0.3, previously it was 0.3\n",
            "Liverpool's ExpectedScored value for away games is now 3.0, previously it was 2.75\n",
            "Liverpool's ExpectedScored value for home games is now 3.0, previously it was 2.75\n",
            "Liverpool's ExpectedConceded value for away games is now 0.3, previously it was 0.3\n",
            "Liverpool's ExpectedConceded value for home games is now 0.3, previously it was 0.3\n",
            "Liverpool's ExpectedScored value for away games is now 3.25, previously it was 3.0\n",
            "Liverpool's ExpectedScored value for home games is now 3.25, previously it was 3.0\n",
            "Liverpool's ExpectedConceded value for away games is now 0.3, previously it was 0.3\n",
            "Liverpool's ExpectedConceded value for home games is now 0.3, previously it was 0.3\n",
            "Liverpool's ExpectedScored value for away games is now 1.5, previously it was 3.25\n",
            "Liverpool's ExpectedScored value for home games is now 1.5, previously it was 3.25\n",
            "Liverpool's ExpectedConceded value for away games is now 0.5, previously it was 0.3\n",
            "Liverpool's ExpectedConceded value for home games is now 0.5, previously it was 0.3\n",
            "Liverpool's ExpectedScored value for away games is now 1.75, previously it was 1.5\n",
            "Liverpool's ExpectedScored value for home games is now 1.75, previously it was 1.5\n",
            "Liverpool's ExpectedConceded value for away games is now 0.5, previously it was 0.5\n",
            "Liverpool's ExpectedConceded value for home games is now 0.5, previously it was 0.5\n",
            "Liverpool's ExpectedScored value for away games is now 2.0, previously it was 1.75\n",
            "Liverpool's ExpectedScored value for home games is now 2.0, previously it was 1.75\n",
            "Liverpool's ExpectedConceded value for away games is now 0.5, previously it was 0.5\n",
            "Liverpool's ExpectedConceded value for home games is now 0.5, previously it was 0.5\n",
            "Liverpool's ExpectedScored value for away games is now 2.221, previously it was 2.0\n",
            "Liverpool's ExpectedScored value for home games is now 2.221, previously it was 2.0\n",
            "Liverpool's ExpectedConceded value for away games is now 0.5, previously it was 0.5\n",
            "Liverpool's ExpectedConceded value for home games is now 0.5, previously it was 0.5\n",
            "Liverpool's ExpectedScored value for away games is now 2.5, previously it was 2.221\n",
            "Liverpool's ExpectedScored value for home games is now 2.5, previously it was 2.221\n",
            "Liverpool's ExpectedConceded value for away games is now 0.5, previously it was 0.5\n",
            "Liverpool's ExpectedConceded value for home games is now 0.5, previously it was 0.5\n",
            "Liverpool's ExpectedScored value for away games is now 2.75, previously it was 2.5\n",
            "Liverpool's ExpectedScored value for home games is now 2.75, previously it was 2.5\n",
            "Liverpool's ExpectedConceded value for away games is now 0.5, previously it was 0.5\n",
            "Liverpool's ExpectedConceded value for home games is now 0.5, previously it was 0.5\n",
            "Liverpool's ExpectedScored value for away games is now 3.0, previously it was 2.75\n",
            "Liverpool's ExpectedScored value for home games is now 3.0, previously it was 2.75\n",
            "Liverpool's ExpectedConceded value for away games is now 0.5, previously it was 0.5\n",
            "Liverpool's ExpectedConceded value for home games is now 0.5, previously it was 0.5\n",
            "Liverpool's ExpectedScored value for away games is now 3.25, previously it was 3.0\n",
            "Liverpool's ExpectedScored value for home games is now 3.25, previously it was 3.0\n",
            "Liverpool's ExpectedConceded value for away games is now 0.5, previously it was 0.5\n",
            "Liverpool's ExpectedConceded value for home games is now 0.5, previously it was 0.5\n",
            "Liverpool's ExpectedScored value for away games is now 1.5, previously it was 3.25\n",
            "Liverpool's ExpectedScored value for home games is now 1.5, previously it was 3.25\n",
            "Liverpool's ExpectedConceded value for away games is now 0.7, previously it was 0.5\n",
            "Liverpool's ExpectedConceded value for home games is now 0.7, previously it was 0.5\n",
            "Liverpool's ExpectedScored value for away games is now 1.75, previously it was 1.5\n",
            "Liverpool's ExpectedScored value for home games is now 1.75, previously it was 1.5\n",
            "Liverpool's ExpectedConceded value for away games is now 0.7, previously it was 0.7\n",
            "Liverpool's ExpectedConceded value for home games is now 0.7, previously it was 0.7\n",
            "Liverpool's ExpectedScored value for away games is now 2.0, previously it was 1.75\n",
            "Liverpool's ExpectedScored value for home games is now 2.0, previously it was 1.75\n",
            "Liverpool's ExpectedConceded value for away games is now 0.7, previously it was 0.7\n",
            "Liverpool's ExpectedConceded value for home games is now 0.7, previously it was 0.7\n"
          ],
          "name": "stdout"
        }
      ]
    },
    {
      "cell_type": "code",
      "metadata": {
        "id": "aOfQ3HzxfkIr"
      },
      "source": [
        "def average_position_chart(sim_list):\n",
        "    fig = plt.figure(dpi=400)\n",
        "    fig.set_size_inches(5,5)\n",
        "    stepsO = [1.5,1.75,2.0,2.25,2.50,2.75,3.0,3.25]\n",
        "    stepsD = [0.3,0.5,0.7,0.9,1.1,1.3,1.5]\n",
        "    freq = np.empty(shape=(len(stepsD),len(stepsO)))\n",
        "    n = 0\n",
        "    for i in range(len(stepsD)): # rows\n",
        "        for j in range(len(stepsO)): # cols\n",
        "            freq[i,j] = int(sim_list[n].average_position_homeaway)\n",
        "            n += 1\n",
        "    \n",
        "    crosstab = pd.DataFrame(\n",
        "        freq,\n",
        "        columns=stepsO,\n",
        "        index = stepsD)\n",
        "    return crosstab\n",
        "average_position_chart(sim_list_new)"
      ],
      "execution_count": null,
      "outputs": []
    },
    {
      "cell_type": "code",
      "metadata": {
        "id": "BR3W546mlY40",
        "outputId": "5243cdad-ce85-4978-df16-d3fc1ff8acee",
        "colab": {
          "base_uri": "https://localhost:8080/"
        }
      },
      "source": [
        "sim1 = Simulation(df1718,4)\n",
        "sim1.simulate_seasons()\n",
        "sim1.simulate_seasons_homeaway()\n",
        "#sim1 = remove_from_pickle_jar(path,'sim1base')"
      ],
      "execution_count": 104,
      "outputs": [
        {
          "output_type": "stream",
          "text": [
            "Season 1 out of 4\n"
          ],
          "name": "stdout"
        }
      ]
    },
    {
      "cell_type": "code",
      "metadata": {
        "id": "i6VxXJcSWjhQ",
        "outputId": "a1ce6790-f5f0-4443-ca8b-b650dfe7478b",
        "colab": {
          "base_uri": "https://localhost:8080/"
        }
      },
      "source": [
        "sim1.calc_freq_homeaway()\n",
        "sim1.get_position_crosstab_homeaway()\n",
        "sim1.get_average_position_homeaway()\n",
        "sim1.average_position_homeaway"
      ],
      "execution_count": 105,
      "outputs": [
        {
          "output_type": "execute_result",
          "data": {
            "text/plain": [
              "2"
            ]
          },
          "metadata": {
            "tags": []
          },
          "execution_count": 105
        }
      ]
    },
    {
      "cell_type": "code",
      "metadata": {
        "id": "Ixn6B8zRXFht",
        "outputId": "78d17418-2e33-4581-903f-0d7470ddc656",
        "colab": {
          "base_uri": "https://localhost:8080/"
        }
      },
      "source": [
        "sim1.set_custom_mu('Liverpool','away','concede',6)\n",
        "sim1.resimulate_seasons_homeaway('Liverpool')\n",
        "sim1.calc_freq_homeaway()\n",
        "sim1.get_position_crosstab_homeaway()\n",
        "sim1.get_average_position_homeaway()\n",
        "sim1.average_position_homeaway"
      ],
      "execution_count": 108,
      "outputs": [
        {
          "output_type": "stream",
          "text": [
            "Liverpool's ExpectedConceded value for away games is now 6, previously it was 6.0\n"
          ],
          "name": "stdout"
        },
        {
          "output_type": "execute_result",
          "data": {
            "text/plain": [
              "11"
            ]
          },
          "metadata": {
            "tags": []
          },
          "execution_count": 108
        }
      ]
    },
    {
      "cell_type": "code",
      "metadata": {
        "id": "DcbZ5yT14LxJ"
      },
      "source": [
        "big_list = list()\n",
        "team = 'Liverpool'\n",
        "stepsS = [1.5,1.75,2.0,2.25,2.50,2.75,3.0,3.25]\n",
        "stepsC = [0.3,0.5,0.7,0.9,1.1,1.3,1.5]\n",
        "for xC in stepsC:\n",
        "    for xS in stepsS:\n",
        "        sim1.set_custom_mu(team,'away','score',xS)\n",
        "        sim1.set_custom_mu(team,'home','score',xS)\n",
        "        sim1.set_custom_mu(team,'away','concede',xC)\n",
        "        sim1.set_custom_mu(team,'home','concede',xC)\n",
        "        sim1.resimulate_seasons_homeaway(team)\n",
        "        sim1.calc_freq_homeaway()\n",
        "        put_in_pickle_jar(sim1,path,team+'score'+str(xC)+str(xS)+'1819')\n"
      ],
      "execution_count": null,
      "outputs": []
    },
    {
      "cell_type": "code",
      "metadata": {
        "id": "vv9ZKZZm20B1"
      },
      "source": [
        "put_in_pickle_jar(sim1,path,'sim1819base')"
      ],
      "execution_count": null,
      "outputs": []
    },
    {
      "cell_type": "code",
      "metadata": {
        "id": "qLsuQtyG3zuT"
      },
      "source": [
        "sim1 = remove_from_pickle_jar(path,'sim1718base')"
      ],
      "execution_count": 22,
      "outputs": []
    },
    {
      "cell_type": "markdown",
      "metadata": {
        "id": "OBv1Q2nlDDYe"
      },
      "source": [
        "# foo"
      ]
    },
    {
      "cell_type": "code",
      "metadata": {
        "id": "A-xbAQowlhBc"
      },
      "source": [
        "sim_list = list()\n",
        "team = 'Liverpool'\n",
        "stepsO = [1.5,1.75,2.0,2.25,2.50,2.75,3.0,3.25]\n",
        "stepsD = [0.3,0.5,0.7,0.9,1.1,1.3,1.5]\n",
        "for xC in stepsD:\n",
        "    for xS in stepsO:\n",
        "        sim_list.append(remove_from_pickle_jar(path,'Liverpoolscore'+str(xC)+str(xS)+'1819'))"
      ],
      "execution_count": 10,
      "outputs": []
    },
    {
      "cell_type": "code",
      "metadata": {
        "id": "esK_Z2A6DGLF"
      },
      "source": [
        "sim_list_new = list()\n",
        "for i in range(len(sim_list)):\n",
        "    sim_list_new.append(Simulation(df1718,1000,team_of_interest='Liverpool',figsize=6,dpi=400))\n",
        "    #sim_list_new[i].season_list_homeaway = sim_list[i].season_list_homeaway\n",
        "    sim_list_new[i].freq_homeaway = sim_list[i].freq_homeaway\n",
        "    sim_list_new[i].get_position_crosstab_homeaway()\n",
        "    sim_list_new[i].get_average_position_homeaway()"
      ],
      "execution_count": 89,
      "outputs": []
    },
    {
      "cell_type": "code",
      "metadata": {
        "id": "isytW1xdTOO_",
        "outputId": "ba9895af-e914-434b-f891-79bb517c50e8",
        "colab": {
          "base_uri": "https://localhost:8080/"
        }
      },
      "source": [
        ""
      ],
      "execution_count": 98,
      "outputs": [
        {
          "output_type": "execute_result",
          "data": {
            "text/plain": [
              "56"
            ]
          },
          "metadata": {
            "tags": []
          },
          "execution_count": 98
        }
      ]
    },
    {
      "cell_type": "code",
      "metadata": {
        "id": "mP5JdsHkKJRi",
        "outputId": "8aee1968-2199-4154-fada-ee7f3044ab5d",
        "colab": {
          "base_uri": "https://localhost:8080/",
          "height": 281
        }
      },
      "source": [
        "def average_position_chart(sim_list):\n",
        "    fig = plt.figure(dpi=400)\n",
        "    fig.set_size_inches(5,5)\n",
        "    stepsO = [1.5,1.75,2.0,2.25,2.50,2.75,3.0,3.25]\n",
        "    stepsD = [0.3,0.5,0.7,0.9,1.1,1.3,1.5]\n",
        "    freq = np.empty(shape=(len(stepsD),len(stepsO)))\n",
        "    n = 0\n",
        "    for i in range(len(stepsD)): # rows\n",
        "        for j in range(len(stepsO)): # cols\n",
        "            freq[i,j] = int(sim_list[n].average_position_homeaway)\n",
        "            n += 1\n",
        "    \n",
        "    crosstab = pd.DataFrame(\n",
        "        freq,\n",
        "        columns=stepsO,\n",
        "        index = stepsD)\n",
        "    return crosstab\n",
        "average_position_chart(sim_list_new)"
      ],
      "execution_count": 102,
      "outputs": [
        {
          "output_type": "execute_result",
          "data": {
            "text/html": [
              "<div>\n",
              "<style scoped>\n",
              "    .dataframe tbody tr th:only-of-type {\n",
              "        vertical-align: middle;\n",
              "    }\n",
              "\n",
              "    .dataframe tbody tr th {\n",
              "        vertical-align: top;\n",
              "    }\n",
              "\n",
              "    .dataframe thead th {\n",
              "        text-align: right;\n",
              "    }\n",
              "</style>\n",
              "<table border=\"1\" class=\"dataframe\">\n",
              "  <thead>\n",
              "    <tr style=\"text-align: right;\">\n",
              "      <th></th>\n",
              "      <th>1.50</th>\n",
              "      <th>1.75</th>\n",
              "      <th>2.00</th>\n",
              "      <th>2.25</th>\n",
              "      <th>2.50</th>\n",
              "      <th>2.75</th>\n",
              "      <th>3.00</th>\n",
              "      <th>3.25</th>\n",
              "    </tr>\n",
              "  </thead>\n",
              "  <tbody>\n",
              "    <tr>\n",
              "      <th>0.3</th>\n",
              "      <td>3.0</td>\n",
              "      <td>3.0</td>\n",
              "      <td>3.0</td>\n",
              "      <td>2.0</td>\n",
              "      <td>2.0</td>\n",
              "      <td>2.0</td>\n",
              "      <td>2.0</td>\n",
              "      <td>2.0</td>\n",
              "    </tr>\n",
              "    <tr>\n",
              "      <th>0.5</th>\n",
              "      <td>3.0</td>\n",
              "      <td>3.0</td>\n",
              "      <td>3.0</td>\n",
              "      <td>2.0</td>\n",
              "      <td>2.0</td>\n",
              "      <td>2.0</td>\n",
              "      <td>2.0</td>\n",
              "      <td>2.0</td>\n",
              "    </tr>\n",
              "    <tr>\n",
              "      <th>0.7</th>\n",
              "      <td>2.0</td>\n",
              "      <td>2.0</td>\n",
              "      <td>2.0</td>\n",
              "      <td>1.0</td>\n",
              "      <td>1.0</td>\n",
              "      <td>1.0</td>\n",
              "      <td>1.0</td>\n",
              "      <td>1.0</td>\n",
              "    </tr>\n",
              "    <tr>\n",
              "      <th>0.9</th>\n",
              "      <td>1.0</td>\n",
              "      <td>1.0</td>\n",
              "      <td>1.0</td>\n",
              "      <td>1.0</td>\n",
              "      <td>1.0</td>\n",
              "      <td>1.0</td>\n",
              "      <td>1.0</td>\n",
              "      <td>1.0</td>\n",
              "    </tr>\n",
              "    <tr>\n",
              "      <th>1.1</th>\n",
              "      <td>1.0</td>\n",
              "      <td>1.0</td>\n",
              "      <td>1.0</td>\n",
              "      <td>1.0</td>\n",
              "      <td>1.0</td>\n",
              "      <td>1.0</td>\n",
              "      <td>1.0</td>\n",
              "      <td>1.0</td>\n",
              "    </tr>\n",
              "    <tr>\n",
              "      <th>1.3</th>\n",
              "      <td>1.0</td>\n",
              "      <td>1.0</td>\n",
              "      <td>1.0</td>\n",
              "      <td>1.0</td>\n",
              "      <td>1.0</td>\n",
              "      <td>1.0</td>\n",
              "      <td>1.0</td>\n",
              "      <td>1.0</td>\n",
              "    </tr>\n",
              "    <tr>\n",
              "      <th>1.5</th>\n",
              "      <td>1.0</td>\n",
              "      <td>1.0</td>\n",
              "      <td>1.0</td>\n",
              "      <td>1.0</td>\n",
              "      <td>1.0</td>\n",
              "      <td>1.0</td>\n",
              "      <td>1.0</td>\n",
              "      <td>1.0</td>\n",
              "    </tr>\n",
              "  </tbody>\n",
              "</table>\n",
              "</div>"
            ],
            "text/plain": [
              "     1.50  1.75  2.00  2.25  2.50  2.75  3.00  3.25\n",
              "0.3   3.0   3.0   3.0   2.0   2.0   2.0   2.0   2.0\n",
              "0.5   3.0   3.0   3.0   2.0   2.0   2.0   2.0   2.0\n",
              "0.7   2.0   2.0   2.0   1.0   1.0   1.0   1.0   1.0\n",
              "0.9   1.0   1.0   1.0   1.0   1.0   1.0   1.0   1.0\n",
              "1.1   1.0   1.0   1.0   1.0   1.0   1.0   1.0   1.0\n",
              "1.3   1.0   1.0   1.0   1.0   1.0   1.0   1.0   1.0\n",
              "1.5   1.0   1.0   1.0   1.0   1.0   1.0   1.0   1.0"
            ]
          },
          "metadata": {
            "tags": []
          },
          "execution_count": 102
        },
        {
          "output_type": "display_data",
          "data": {
            "text/plain": [
              "<Figure size 2000x2000 with 0 Axes>"
            ]
          },
          "metadata": {
            "tags": []
          }
        }
      ]
    },
    {
      "cell_type": "markdown",
      "metadata": {
        "id": "2H36JakOCX75"
      },
      "source": [
        "# Trying to add a method"
      ]
    },
    {
      "cell_type": "code",
      "metadata": {
        "id": "IYFW9tlRqi7B"
      },
      "source": [
        "simtest = Simulation(df1819,4)"
      ],
      "execution_count": 20,
      "outputs": []
    },
    {
      "cell_type": "code",
      "metadata": {
        "id": "sNH60uNE_gx5",
        "outputId": "d635e7f2-a16a-4bf0-fa1a-4d53af261860",
        "colab": {
          "base_uri": "https://localhost:8080/",
          "height": 217
        }
      },
      "source": [
        "def test(self):\n",
        "    print('qwert')\n",
        "\n",
        "Simulation.test = test\n",
        "simtest = Simulation()\n",
        "simtest.test"
      ],
      "execution_count": 26,
      "outputs": [
        {
          "output_type": "error",
          "ename": "TypeError",
          "evalue": "ignored",
          "traceback": [
            "\u001b[0;31m---------------------------------------------------------------------------\u001b[0m",
            "\u001b[0;31mTypeError\u001b[0m                                 Traceback (most recent call last)",
            "\u001b[0;32m<ipython-input-26-6a6133629f21>\u001b[0m in \u001b[0;36m<module>\u001b[0;34m()\u001b[0m\n\u001b[1;32m      3\u001b[0m \u001b[0;34m\u001b[0m\u001b[0m\n\u001b[1;32m      4\u001b[0m \u001b[0mSimulation\u001b[0m\u001b[0;34m.\u001b[0m\u001b[0mtest\u001b[0m \u001b[0;34m=\u001b[0m \u001b[0mtest\u001b[0m\u001b[0;34m\u001b[0m\u001b[0;34m\u001b[0m\u001b[0m\n\u001b[0;32m----> 5\u001b[0;31m \u001b[0msimtest\u001b[0m \u001b[0;34m=\u001b[0m \u001b[0mSimulation\u001b[0m\u001b[0;34m(\u001b[0m\u001b[0;34m)\u001b[0m\u001b[0;34m\u001b[0m\u001b[0;34m\u001b[0m\u001b[0m\n\u001b[0m\u001b[1;32m      6\u001b[0m \u001b[0msimtest\u001b[0m\u001b[0;34m.\u001b[0m\u001b[0mtest\u001b[0m\u001b[0;34m\u001b[0m\u001b[0;34m\u001b[0m\u001b[0m\n",
            "\u001b[0;31mTypeError\u001b[0m: __init__() missing 2 required positional arguments: 'df' and 'n'"
          ]
        }
      ]
    },
    {
      "cell_type": "code",
      "metadata": {
        "id": "SZxBrHOVAXh1",
        "outputId": "058a8102-4dd1-45bc-ba75-eccf1e4c65b4",
        "colab": {
          "base_uri": "https://localhost:8080/"
        }
      },
      "source": [
        "import types\n",
        "simtest.test = types.MethodType(test,simtest)\n",
        "simtest.test()"
      ],
      "execution_count": 28,
      "outputs": [
        {
          "output_type": "stream",
          "text": [
            "qwert\n"
          ],
          "name": "stdout"
        }
      ]
    },
    {
      "cell_type": "code",
      "metadata": {
        "id": "UKVRuNpeZ_RE"
      },
      "source": [
        "sim.calc_freq_homeaway()\n",
        "sim.dpi = 400\n",
        "sim.figsize = 9\n",
        "sim.plot_position_crosstab_homeaway()"
      ],
      "execution_count": null,
      "outputs": []
    },
    {
      "cell_type": "code",
      "metadata": {
        "id": "DuQpOCB48SgM"
      },
      "source": [
        "\n",
        "def get_position_crosstab_homeaway(self): \n",
        "    fig = plt.figure(dpi=self.dpi)\n",
        "    fig.set_size_inches(self.figsize,self.figsize)\n",
        "    crosstab = pd.DataFrame(\n",
        "        self.freq_homeaway,\n",
        "        columns=range(1,21),\n",
        "        index = self.teams)\n",
        "    crosstab = crosstab.sort_values(\n",
        "        by=[crosstab.columns[i] for i in range(len(crosstab.columns))],\n",
        "        ascending=[False]*len(crosstab.columns))\n",
        "    self.crosstab_homeaway = crosstab # If you want to do some statistics"
      ],
      "execution_count": 32,
      "outputs": []
    },
    {
      "cell_type": "code",
      "metadata": {
        "id": "4CaY8fNw8WK0"
      },
      "source": [
        "for i in range(len(sim_list)):\n",
        "    sim_list[i].get_position_crosstab_homeaway = types.MethodType(get_position_crosstab_homeaway,sim_list[i])"
      ],
      "execution_count": 33,
      "outputs": []
    },
    {
      "cell_type": "code",
      "metadata": {
        "id": "r4zjsxMmBzgi"
      },
      "source": [
        "for i in range(len(sim_list)):\n",
        "    sim_list[i].plot_position_crosstab_homeaway"
      ],
      "execution_count": null,
      "outputs": []
    },
    {
      "cell_type": "code",
      "metadata": {
        "id": "b5b8dEdP9w5c",
        "outputId": "65b2e810-efe1-4ce2-9085-c7b63f402b69",
        "colab": {
          "base_uri": "https://localhost:8080/",
          "height": 165
        }
      },
      "source": [
        "sim_list[0].get_positon_crosstab_homeaway()"
      ],
      "execution_count": 34,
      "outputs": [
        {
          "output_type": "error",
          "ename": "AttributeError",
          "evalue": "ignored",
          "traceback": [
            "\u001b[0;31m---------------------------------------------------------------------------\u001b[0m",
            "\u001b[0;31mAttributeError\u001b[0m                            Traceback (most recent call last)",
            "\u001b[0;32m<ipython-input-34-c5db1e238a1d>\u001b[0m in \u001b[0;36m<module>\u001b[0;34m()\u001b[0m\n\u001b[0;32m----> 1\u001b[0;31m \u001b[0msim_list\u001b[0m\u001b[0;34m[\u001b[0m\u001b[0;36m0\u001b[0m\u001b[0;34m]\u001b[0m\u001b[0;34m.\u001b[0m\u001b[0mget_positon_crosstab_homeaway\u001b[0m\u001b[0;34m(\u001b[0m\u001b[0;34m)\u001b[0m\u001b[0;34m\u001b[0m\u001b[0;34m\u001b[0m\u001b[0m\n\u001b[0m",
            "\u001b[0;31mAttributeError\u001b[0m: 'Simulation' object has no attribute 'get_positon_crosstab_homeaway'"
          ]
        }
      ]
    },
    {
      "cell_type": "markdown",
      "metadata": {
        "id": "IoGiH8OaCgih"
      },
      "source": [
        "# Old dev / debug"
      ]
    },
    {
      "cell_type": "code",
      "metadata": {
        "id": "8a9x01C9LWzl",
        "outputId": "fd4c2a86-48bd-4eec-808d-c254c51c0246",
        "colab": {
          "base_uri": "https://localhost:8080/",
          "height": 1000
        }
      },
      "source": [
        "i = 2\n",
        "big_list[i].plot_position_crosstab_homeaway()\n",
        "big_list[i].crosstab"
      ],
      "execution_count": null,
      "outputs": [
        {
          "output_type": "execute_result",
          "data": {
            "text/html": [
              "<div>\n",
              "<style scoped>\n",
              "    .dataframe tbody tr th:only-of-type {\n",
              "        vertical-align: middle;\n",
              "    }\n",
              "\n",
              "    .dataframe tbody tr th {\n",
              "        vertical-align: top;\n",
              "    }\n",
              "\n",
              "    .dataframe thead th {\n",
              "        text-align: right;\n",
              "    }\n",
              "</style>\n",
              "<table border=\"1\" class=\"dataframe\">\n",
              "  <thead>\n",
              "    <tr style=\"text-align: right;\">\n",
              "      <th></th>\n",
              "      <th>1</th>\n",
              "      <th>2</th>\n",
              "      <th>3</th>\n",
              "      <th>4</th>\n",
              "      <th>5</th>\n",
              "      <th>6</th>\n",
              "      <th>7</th>\n",
              "      <th>8</th>\n",
              "      <th>9</th>\n",
              "      <th>10</th>\n",
              "      <th>11</th>\n",
              "      <th>12</th>\n",
              "      <th>13</th>\n",
              "      <th>14</th>\n",
              "      <th>15</th>\n",
              "      <th>16</th>\n",
              "      <th>17</th>\n",
              "      <th>18</th>\n",
              "      <th>19</th>\n",
              "      <th>20</th>\n",
              "    </tr>\n",
              "  </thead>\n",
              "  <tbody>\n",
              "    <tr>\n",
              "      <th>Wolves</th>\n",
              "      <td>4</td>\n",
              "      <td>0</td>\n",
              "      <td>1</td>\n",
              "      <td>0</td>\n",
              "      <td>2</td>\n",
              "      <td>0</td>\n",
              "      <td>0</td>\n",
              "      <td>0</td>\n",
              "      <td>0</td>\n",
              "      <td>1</td>\n",
              "      <td>1</td>\n",
              "      <td>0</td>\n",
              "      <td>1</td>\n",
              "      <td>0</td>\n",
              "      <td>0</td>\n",
              "      <td>0</td>\n",
              "      <td>0</td>\n",
              "      <td>0</td>\n",
              "      <td>0</td>\n",
              "      <td>0</td>\n",
              "    </tr>\n",
              "    <tr>\n",
              "      <th>Man City</th>\n",
              "      <td>3</td>\n",
              "      <td>1</td>\n",
              "      <td>1</td>\n",
              "      <td>3</td>\n",
              "      <td>1</td>\n",
              "      <td>1</td>\n",
              "      <td>0</td>\n",
              "      <td>0</td>\n",
              "      <td>0</td>\n",
              "      <td>0</td>\n",
              "      <td>0</td>\n",
              "      <td>0</td>\n",
              "      <td>0</td>\n",
              "      <td>0</td>\n",
              "      <td>0</td>\n",
              "      <td>0</td>\n",
              "      <td>0</td>\n",
              "      <td>0</td>\n",
              "      <td>0</td>\n",
              "      <td>0</td>\n",
              "    </tr>\n",
              "    <tr>\n",
              "      <th>Chelsea</th>\n",
              "      <td>1</td>\n",
              "      <td>2</td>\n",
              "      <td>3</td>\n",
              "      <td>4</td>\n",
              "      <td>0</td>\n",
              "      <td>0</td>\n",
              "      <td>0</td>\n",
              "      <td>0</td>\n",
              "      <td>0</td>\n",
              "      <td>0</td>\n",
              "      <td>0</td>\n",
              "      <td>0</td>\n",
              "      <td>0</td>\n",
              "      <td>0</td>\n",
              "      <td>0</td>\n",
              "      <td>0</td>\n",
              "      <td>0</td>\n",
              "      <td>0</td>\n",
              "      <td>0</td>\n",
              "      <td>0</td>\n",
              "    </tr>\n",
              "    <tr>\n",
              "      <th>Arsenal</th>\n",
              "      <td>1</td>\n",
              "      <td>1</td>\n",
              "      <td>1</td>\n",
              "      <td>1</td>\n",
              "      <td>2</td>\n",
              "      <td>0</td>\n",
              "      <td>3</td>\n",
              "      <td>0</td>\n",
              "      <td>1</td>\n",
              "      <td>0</td>\n",
              "      <td>0</td>\n",
              "      <td>0</td>\n",
              "      <td>0</td>\n",
              "      <td>0</td>\n",
              "      <td>0</td>\n",
              "      <td>0</td>\n",
              "      <td>0</td>\n",
              "      <td>0</td>\n",
              "      <td>0</td>\n",
              "      <td>0</td>\n",
              "    </tr>\n",
              "    <tr>\n",
              "      <th>Burnley</th>\n",
              "      <td>1</td>\n",
              "      <td>1</td>\n",
              "      <td>0</td>\n",
              "      <td>0</td>\n",
              "      <td>0</td>\n",
              "      <td>1</td>\n",
              "      <td>0</td>\n",
              "      <td>1</td>\n",
              "      <td>1</td>\n",
              "      <td>0</td>\n",
              "      <td>0</td>\n",
              "      <td>1</td>\n",
              "      <td>0</td>\n",
              "      <td>1</td>\n",
              "      <td>1</td>\n",
              "      <td>1</td>\n",
              "      <td>1</td>\n",
              "      <td>0</td>\n",
              "      <td>0</td>\n",
              "      <td>0</td>\n",
              "    </tr>\n",
              "    <tr>\n",
              "      <th>Leicester</th>\n",
              "      <td>0</td>\n",
              "      <td>4</td>\n",
              "      <td>1</td>\n",
              "      <td>1</td>\n",
              "      <td>2</td>\n",
              "      <td>0</td>\n",
              "      <td>1</td>\n",
              "      <td>0</td>\n",
              "      <td>0</td>\n",
              "      <td>1</td>\n",
              "      <td>0</td>\n",
              "      <td>0</td>\n",
              "      <td>0</td>\n",
              "      <td>0</td>\n",
              "      <td>0</td>\n",
              "      <td>0</td>\n",
              "      <td>0</td>\n",
              "      <td>0</td>\n",
              "      <td>0</td>\n",
              "      <td>0</td>\n",
              "    </tr>\n",
              "    <tr>\n",
              "      <th>Man United</th>\n",
              "      <td>0</td>\n",
              "      <td>1</td>\n",
              "      <td>0</td>\n",
              "      <td>0</td>\n",
              "      <td>0</td>\n",
              "      <td>3</td>\n",
              "      <td>0</td>\n",
              "      <td>2</td>\n",
              "      <td>2</td>\n",
              "      <td>1</td>\n",
              "      <td>0</td>\n",
              "      <td>1</td>\n",
              "      <td>0</td>\n",
              "      <td>0</td>\n",
              "      <td>0</td>\n",
              "      <td>0</td>\n",
              "      <td>0</td>\n",
              "      <td>0</td>\n",
              "      <td>0</td>\n",
              "      <td>0</td>\n",
              "    </tr>\n",
              "    <tr>\n",
              "      <th>Sheffield United</th>\n",
              "      <td>0</td>\n",
              "      <td>0</td>\n",
              "      <td>1</td>\n",
              "      <td>0</td>\n",
              "      <td>1</td>\n",
              "      <td>0</td>\n",
              "      <td>0</td>\n",
              "      <td>3</td>\n",
              "      <td>0</td>\n",
              "      <td>1</td>\n",
              "      <td>1</td>\n",
              "      <td>0</td>\n",
              "      <td>1</td>\n",
              "      <td>1</td>\n",
              "      <td>0</td>\n",
              "      <td>1</td>\n",
              "      <td>0</td>\n",
              "      <td>0</td>\n",
              "      <td>0</td>\n",
              "      <td>0</td>\n",
              "    </tr>\n",
              "    <tr>\n",
              "      <th>Everton</th>\n",
              "      <td>0</td>\n",
              "      <td>0</td>\n",
              "      <td>1</td>\n",
              "      <td>0</td>\n",
              "      <td>0</td>\n",
              "      <td>0</td>\n",
              "      <td>1</td>\n",
              "      <td>0</td>\n",
              "      <td>1</td>\n",
              "      <td>0</td>\n",
              "      <td>1</td>\n",
              "      <td>2</td>\n",
              "      <td>0</td>\n",
              "      <td>1</td>\n",
              "      <td>0</td>\n",
              "      <td>0</td>\n",
              "      <td>2</td>\n",
              "      <td>1</td>\n",
              "      <td>0</td>\n",
              "      <td>0</td>\n",
              "    </tr>\n",
              "    <tr>\n",
              "      <th>Brighton</th>\n",
              "      <td>0</td>\n",
              "      <td>0</td>\n",
              "      <td>1</td>\n",
              "      <td>0</td>\n",
              "      <td>0</td>\n",
              "      <td>0</td>\n",
              "      <td>0</td>\n",
              "      <td>1</td>\n",
              "      <td>0</td>\n",
              "      <td>2</td>\n",
              "      <td>1</td>\n",
              "      <td>0</td>\n",
              "      <td>2</td>\n",
              "      <td>0</td>\n",
              "      <td>0</td>\n",
              "      <td>2</td>\n",
              "      <td>1</td>\n",
              "      <td>0</td>\n",
              "      <td>0</td>\n",
              "      <td>0</td>\n",
              "    </tr>\n",
              "    <tr>\n",
              "      <th>West Ham</th>\n",
              "      <td>0</td>\n",
              "      <td>0</td>\n",
              "      <td>0</td>\n",
              "      <td>1</td>\n",
              "      <td>0</td>\n",
              "      <td>1</td>\n",
              "      <td>2</td>\n",
              "      <td>1</td>\n",
              "      <td>1</td>\n",
              "      <td>0</td>\n",
              "      <td>1</td>\n",
              "      <td>1</td>\n",
              "      <td>1</td>\n",
              "      <td>1</td>\n",
              "      <td>0</td>\n",
              "      <td>0</td>\n",
              "      <td>0</td>\n",
              "      <td>0</td>\n",
              "      <td>0</td>\n",
              "      <td>0</td>\n",
              "    </tr>\n",
              "    <tr>\n",
              "      <th>Southampton</th>\n",
              "      <td>0</td>\n",
              "      <td>0</td>\n",
              "      <td>0</td>\n",
              "      <td>0</td>\n",
              "      <td>1</td>\n",
              "      <td>1</td>\n",
              "      <td>1</td>\n",
              "      <td>1</td>\n",
              "      <td>1</td>\n",
              "      <td>2</td>\n",
              "      <td>0</td>\n",
              "      <td>0</td>\n",
              "      <td>1</td>\n",
              "      <td>0</td>\n",
              "      <td>0</td>\n",
              "      <td>1</td>\n",
              "      <td>0</td>\n",
              "      <td>1</td>\n",
              "      <td>0</td>\n",
              "      <td>0</td>\n",
              "    </tr>\n",
              "    <tr>\n",
              "      <th>Bournemouth</th>\n",
              "      <td>0</td>\n",
              "      <td>0</td>\n",
              "      <td>0</td>\n",
              "      <td>0</td>\n",
              "      <td>1</td>\n",
              "      <td>1</td>\n",
              "      <td>1</td>\n",
              "      <td>0</td>\n",
              "      <td>0</td>\n",
              "      <td>0</td>\n",
              "      <td>0</td>\n",
              "      <td>0</td>\n",
              "      <td>0</td>\n",
              "      <td>2</td>\n",
              "      <td>3</td>\n",
              "      <td>1</td>\n",
              "      <td>1</td>\n",
              "      <td>0</td>\n",
              "      <td>0</td>\n",
              "      <td>0</td>\n",
              "    </tr>\n",
              "    <tr>\n",
              "      <th>Crystal Palace</th>\n",
              "      <td>0</td>\n",
              "      <td>0</td>\n",
              "      <td>0</td>\n",
              "      <td>0</td>\n",
              "      <td>0</td>\n",
              "      <td>1</td>\n",
              "      <td>0</td>\n",
              "      <td>0</td>\n",
              "      <td>1</td>\n",
              "      <td>2</td>\n",
              "      <td>1</td>\n",
              "      <td>0</td>\n",
              "      <td>2</td>\n",
              "      <td>1</td>\n",
              "      <td>0</td>\n",
              "      <td>0</td>\n",
              "      <td>0</td>\n",
              "      <td>2</td>\n",
              "      <td>0</td>\n",
              "      <td>0</td>\n",
              "    </tr>\n",
              "    <tr>\n",
              "      <th>Newcastle</th>\n",
              "      <td>0</td>\n",
              "      <td>0</td>\n",
              "      <td>0</td>\n",
              "      <td>0</td>\n",
              "      <td>0</td>\n",
              "      <td>1</td>\n",
              "      <td>0</td>\n",
              "      <td>0</td>\n",
              "      <td>1</td>\n",
              "      <td>0</td>\n",
              "      <td>1</td>\n",
              "      <td>1</td>\n",
              "      <td>0</td>\n",
              "      <td>0</td>\n",
              "      <td>2</td>\n",
              "      <td>1</td>\n",
              "      <td>0</td>\n",
              "      <td>2</td>\n",
              "      <td>1</td>\n",
              "      <td>0</td>\n",
              "    </tr>\n",
              "    <tr>\n",
              "      <th>Tottenham</th>\n",
              "      <td>0</td>\n",
              "      <td>0</td>\n",
              "      <td>0</td>\n",
              "      <td>0</td>\n",
              "      <td>0</td>\n",
              "      <td>0</td>\n",
              "      <td>1</td>\n",
              "      <td>1</td>\n",
              "      <td>1</td>\n",
              "      <td>0</td>\n",
              "      <td>2</td>\n",
              "      <td>2</td>\n",
              "      <td>0</td>\n",
              "      <td>1</td>\n",
              "      <td>0</td>\n",
              "      <td>0</td>\n",
              "      <td>2</td>\n",
              "      <td>0</td>\n",
              "      <td>0</td>\n",
              "      <td>0</td>\n",
              "    </tr>\n",
              "    <tr>\n",
              "      <th>Aston Villa</th>\n",
              "      <td>0</td>\n",
              "      <td>0</td>\n",
              "      <td>0</td>\n",
              "      <td>0</td>\n",
              "      <td>0</td>\n",
              "      <td>0</td>\n",
              "      <td>0</td>\n",
              "      <td>0</td>\n",
              "      <td>0</td>\n",
              "      <td>0</td>\n",
              "      <td>1</td>\n",
              "      <td>0</td>\n",
              "      <td>0</td>\n",
              "      <td>1</td>\n",
              "      <td>1</td>\n",
              "      <td>1</td>\n",
              "      <td>2</td>\n",
              "      <td>0</td>\n",
              "      <td>3</td>\n",
              "      <td>1</td>\n",
              "    </tr>\n",
              "    <tr>\n",
              "      <th>Norwich</th>\n",
              "      <td>0</td>\n",
              "      <td>0</td>\n",
              "      <td>0</td>\n",
              "      <td>0</td>\n",
              "      <td>0</td>\n",
              "      <td>0</td>\n",
              "      <td>0</td>\n",
              "      <td>0</td>\n",
              "      <td>0</td>\n",
              "      <td>0</td>\n",
              "      <td>0</td>\n",
              "      <td>1</td>\n",
              "      <td>2</td>\n",
              "      <td>0</td>\n",
              "      <td>1</td>\n",
              "      <td>0</td>\n",
              "      <td>1</td>\n",
              "      <td>2</td>\n",
              "      <td>3</td>\n",
              "      <td>0</td>\n",
              "    </tr>\n",
              "    <tr>\n",
              "      <th>Watford</th>\n",
              "      <td>0</td>\n",
              "      <td>0</td>\n",
              "      <td>0</td>\n",
              "      <td>0</td>\n",
              "      <td>0</td>\n",
              "      <td>0</td>\n",
              "      <td>0</td>\n",
              "      <td>0</td>\n",
              "      <td>0</td>\n",
              "      <td>0</td>\n",
              "      <td>0</td>\n",
              "      <td>1</td>\n",
              "      <td>0</td>\n",
              "      <td>1</td>\n",
              "      <td>1</td>\n",
              "      <td>2</td>\n",
              "      <td>0</td>\n",
              "      <td>1</td>\n",
              "      <td>2</td>\n",
              "      <td>2</td>\n",
              "    </tr>\n",
              "    <tr>\n",
              "      <th>Liverpool</th>\n",
              "      <td>0</td>\n",
              "      <td>0</td>\n",
              "      <td>0</td>\n",
              "      <td>0</td>\n",
              "      <td>0</td>\n",
              "      <td>0</td>\n",
              "      <td>0</td>\n",
              "      <td>0</td>\n",
              "      <td>0</td>\n",
              "      <td>0</td>\n",
              "      <td>0</td>\n",
              "      <td>0</td>\n",
              "      <td>0</td>\n",
              "      <td>0</td>\n",
              "      <td>1</td>\n",
              "      <td>0</td>\n",
              "      <td>0</td>\n",
              "      <td>1</td>\n",
              "      <td>1</td>\n",
              "      <td>7</td>\n",
              "    </tr>\n",
              "  </tbody>\n",
              "</table>\n",
              "</div>"
            ],
            "text/plain": [
              "                  1   2   3   4   5   6   7   ...  14  15  16  17  18  19  20\n",
              "Wolves             4   0   1   0   2   0   0  ...   0   0   0   0   0   0   0\n",
              "Man City           3   1   1   3   1   1   0  ...   0   0   0   0   0   0   0\n",
              "Chelsea            1   2   3   4   0   0   0  ...   0   0   0   0   0   0   0\n",
              "Arsenal            1   1   1   1   2   0   3  ...   0   0   0   0   0   0   0\n",
              "Burnley            1   1   0   0   0   1   0  ...   1   1   1   1   0   0   0\n",
              "Leicester          0   4   1   1   2   0   1  ...   0   0   0   0   0   0   0\n",
              "Man United         0   1   0   0   0   3   0  ...   0   0   0   0   0   0   0\n",
              "Sheffield United   0   0   1   0   1   0   0  ...   1   0   1   0   0   0   0\n",
              "Everton            0   0   1   0   0   0   1  ...   1   0   0   2   1   0   0\n",
              "Brighton           0   0   1   0   0   0   0  ...   0   0   2   1   0   0   0\n",
              "West Ham           0   0   0   1   0   1   2  ...   1   0   0   0   0   0   0\n",
              "Southampton        0   0   0   0   1   1   1  ...   0   0   1   0   1   0   0\n",
              "Bournemouth        0   0   0   0   1   1   1  ...   2   3   1   1   0   0   0\n",
              "Crystal Palace     0   0   0   0   0   1   0  ...   1   0   0   0   2   0   0\n",
              "Newcastle          0   0   0   0   0   1   0  ...   0   2   1   0   2   1   0\n",
              "Tottenham          0   0   0   0   0   0   1  ...   1   0   0   2   0   0   0\n",
              "Aston Villa        0   0   0   0   0   0   0  ...   1   1   1   2   0   3   1\n",
              "Norwich            0   0   0   0   0   0   0  ...   0   1   0   1   2   3   0\n",
              "Watford            0   0   0   0   0   0   0  ...   1   1   2   0   1   2   2\n",
              "Liverpool          0   0   0   0   0   0   0  ...   0   1   0   0   1   1   7\n",
              "\n",
              "[20 rows x 20 columns]"
            ]
          },
          "metadata": {
            "tags": []
          },
          "execution_count": 162
        },
        {
          "output_type": "display_data",
          "data": {
            "image/png": "[encoded data removed]",
            "text/plain": [
              "<Figure size 600x600 with 1 Axes>"
            ]
          },
          "metadata": {
            "tags": []
          }
        }
      ]
    },
    {
      "cell_type": "code",
      "metadata": {
        "id": "3XEBqOHamt_6",
        "outputId": "4a3a5439-39a8-467c-ab6d-ef1b7e3e0334",
        "colab": {
          "base_uri": "https://localhost:8080/"
        }
      },
      "source": [
        "sim1.set_custom_mu('Liverpool','away','score',3)\n",
        "#self,team,home_or_away,SorC,value"
      ],
      "execution_count": null,
      "outputs": [
        {
          "output_type": "stream",
          "text": [
            "Liverpool's ExpectedScored value for home games is now 3, previously it was 2.736842105263158\n"
          ],
          "name": "stdout"
        }
      ]
    },
    {
      "cell_type": "code",
      "metadata": {
        "id": "4Ev1EaKQoF3N"
      },
      "source": [
        "sim1.resimulate_seasons_homeaway('Liverpool')"
      ],
      "execution_count": null,
      "outputs": []
    },
    {
      "cell_type": "code",
      "metadata": {
        "id": "QxWf5rP0uBCX"
      },
      "source": [
        "sim1.calc_freq_homeaway()\n",
        "sim1.plot_hist()"
      ],
      "execution_count": null,
      "outputs": []
    },
    {
      "cell_type": "code",
      "metadata": {
        "id": "FkWgP2Bdqwsm"
      },
      "source": [
        "sim333.expected_values_away.at[16,'ExpectedConceded']=0.61"
      ],
      "execution_count": null,
      "outputs": []
    },
    {
      "cell_type": "code",
      "metadata": {
        "id": "7dWT6ib4qbYs"
      },
      "source": [
        "sim333 = Simulation(df1920,5000)\n",
        "\n",
        "sim333.simulate_seasons_homeaway()\n",
        "\n",
        "sim333.calc_freq_homeaway()\n",
        "sim333.plot_position_crosstab_homeaway()"
      ],
      "execution_count": null,
      "outputs": []
    },
    {
      "cell_type": "code",
      "metadata": {
        "id": "vh_itYSED6L1",
        "outputId": "5c42f7fc-bcb4-4710-d62d-b3c30f5a615d",
        "colab": {
          "base_uri": "https://localhost:8080/"
        }
      },
      "source": [
        "sim111 = Simulation(df1718,1000)\n",
        "sim111.expected_values_away\n",
        "sim111.set_custom_mu(team='Liverpool',category='away',SorC='C',value=0.61)\n"
      ],
      "execution_count": null,
      "outputs": [
        {
          "output_type": "stream",
          "text": [
            "Liverpool's ExpectedConceded value for home games is now 0.61, previously it was 0.8421052631578947\n"
          ],
          "name": "stdout"
        }
      ]
    },
    {
      "cell_type": "code",
      "metadata": {
        "id": "c5rQhHi7KL4R"
      },
      "source": [
        "sim111.simulate_seasons_homeaway()\n",
        "\n",
        "sim111.calc_freq_homeaway()\n",
        "sim111.plot_position_crosstab_homeaway()"
      ],
      "execution_count": null,
      "outputs": []
    },
    {
      "cell_type": "code",
      "metadata": {
        "id": "wQ1PIqpsECRz"
      },
      "source": [
        "sim333.simulate_seasons_homeaway()\n",
        "\n",
        "sim333.calc_freq_homeaway()\n",
        "sim333.plot_position_crosstab_homeaway()"
      ],
      "execution_count": null,
      "outputs": []
    }
  ]
}